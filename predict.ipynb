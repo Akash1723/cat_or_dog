{
 "cells": [
  {
   "cell_type": "code",
   "execution_count": 11,
   "id": "c254ab0f",
   "metadata": {},
   "outputs": [],
   "source": [
    "import tensorflow as tf\n",
    "import numpy as np\n",
    "import ipywidgets as widgets\n",
    "from IPython.display import display\n",
    "from io import BytesIO"
   ]
  },
  {
   "cell_type": "code",
   "execution_count": 12,
   "id": "92475954",
   "metadata": {},
   "outputs": [],
   "source": [
    "model=tf.keras.models.load_model(\"cat_or_dog.h5\")"
   ]
  },
  {
   "cell_type": "code",
   "execution_count": 13,
   "id": "004ebafa",
   "metadata": {},
   "outputs": [],
   "source": [
    "uploader = widgets.FileUpload(\n",
    "    accept='image/*',  # Accept any image file\n",
    "    multiple=True      # Allow uploading multiple files at once\n",
    ")\n",
    "out = widgets.Output()"
   ]
  },
  {
   "cell_type": "code",
   "execution_count": 14,
   "id": "a2a4b049",
   "metadata": {},
   "outputs": [],
   "source": [
    "#predicting core functiom\n",
    "def predict_image(filename, file_content, output_widget):\n",
    "    image = tf.keras.utils.load_img(file_content, target_size=(150, 150))\n",
    "    image = tf.keras.utils.img_to_array(image)\n",
    "    # The model expects a \"batch\" of images, so we add an extra dimension.\n",
    "    image = np.expand_dims(image, axis=0)\n",
    "    prediction = model.predict(image, verbose=0)[0][0]\n",
    "\n",
    "    with output_widget:\n",
    "        if prediction > 0.5:\n",
    "            print(f\"Result for '{filename}': It's a Dog! (Probability: {prediction:.2f})\")\n",
    "        else:\n",
    "            print(f\"Result for '{filename}': It's a Cat! (Probability: {1-prediction:.2f})\")"
   ]
  },
  {
   "cell_type": "code",
   "execution_count": 15,
   "id": "05e34493",
   "metadata": {},
   "outputs": [
    {
     "name": "stdout",
     "output_type": "stream",
     "text": [
      "Upload an image of a cat or a dog to test the model.\n"
     ]
    },
    {
     "data": {
      "application/vnd.jupyter.widget-view+json": {
       "model_id": "5e408b2077e648bd9aa222a6ceb222d2",
       "version_major": 2,
       "version_minor": 0
      },
      "text/plain": [
       "FileUpload(value=(), accept='image/*', description='Upload', multiple=True)"
      ]
     },
     "metadata": {},
     "output_type": "display_data"
    },
    {
     "data": {
      "application/vnd.jupyter.widget-view+json": {
       "model_id": "8ee5f14582c249bf8ae72b0aa96faaa6",
       "version_major": 2,
       "version_minor": 0
      },
      "text/plain": [
       "Output()"
      ]
     },
     "metadata": {},
     "output_type": "display_data"
    }
   ],
   "source": [
    "def on_upload_change(change):\n",
    "    newly_uploaded = change['new']\n",
    "    for item_metadata in newly_uploaded:\n",
    "        filename = item_metadata['name']\n",
    "        file_content_bytes = item_metadata['content']\n",
    "        file_like_object = BytesIO(file_content_bytes)\n",
    "        predict_image(filename, file_like_object, out)\n",
    "uploader.observe(on_upload_change, names='value')\n",
    "print(\"Upload an image of a cat or a dog to test the model.\")\n",
    "display(uploader)\n",
    "display(out)"
   ]
  },
  {
   "cell_type": "code",
   "execution_count": null,
   "id": "d33a380d",
   "metadata": {},
   "outputs": [],
   "source": []
  }
 ],
 "metadata": {
  "kernelspec": {
   "display_name": "Python 3",
   "language": "python",
   "name": "python3"
  },
  "language_info": {
   "codemirror_mode": {
    "name": "ipython",
    "version": 3
   },
   "file_extension": ".py",
   "mimetype": "text/x-python",
   "name": "python",
   "nbconvert_exporter": "python",
   "pygments_lexer": "ipython3",
   "version": "3.8.0"
  }
 },
 "nbformat": 4,
 "nbformat_minor": 5
}
